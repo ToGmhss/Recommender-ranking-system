{
 "cells": [
  {
   "cell_type": "markdown",
   "id": "c61dd145",
   "metadata": {},
   "source": [
    "# LightFM - hybrid matrix factorisation on MovieLens (Python, CPU)"
   ]
  },
  {
   "cell_type": "markdown",
   "id": "217cffff",
   "metadata": {},
   "source": [
    "## 1. Hybrid matrix factorisation model"
   ]
  },
  {
   "cell_type": "markdown",
   "id": "f4ef1957",
   "metadata": {},
   "source": [
    "## 2. Movie recommender with LightFM using only explicit feedbacks"
   ]
  },
  {
   "cell_type": "markdown",
   "id": "20c86b37",
   "metadata": {},
   "source": [
    "### 2.1 Import libraries"
   ]
  },
  {
   "cell_type": "code",
   "execution_count": 1,
   "id": "e001cc29",
   "metadata": {},
   "outputs": [
    {
     "name": "stderr",
     "output_type": "stream",
     "text": [
      "/opt/anaconda3/lib/python3.8/site-packages/lightfm/_lightfm_fast.py:9: UserWarning: LightFM was compiled without OpenMP support. Only a single thread will be used.\n",
      "  warnings.warn(\n"
     ]
    },
    {
     "name": "stdout",
     "output_type": "stream",
     "text": [
      "System version: 3.8.8 (default, Apr 13 2021, 12:59:45) \n",
      "[Clang 10.0.0 ]\n",
      "LightFM version: 1.16\n"
     ]
    }
   ],
   "source": [
    "import sys\n",
    "import os\n",
    "\n",
    "import itertools\n",
    "import pandas as pd\n",
    "import numpy as np\n",
    "import matplotlib.pyplot as plt\n",
    "import seaborn as sns\n",
    "\n",
    "import lightfm\n",
    "from lightfm import LightFM\n",
    "from lightfm.data import Dataset\n",
    "from lightfm import cross_validation\n",
    "\n",
    "# Import LightFM's evaluation metrics\n",
    "from lightfm.evaluation import precision_at_k as lightfm_prec_at_k\n",
    "from lightfm.evaluation import recall_at_k as lightfm_recall_at_k\n",
    "\n",
    "# Import repo's evaluation metrics\n",
    "from recommenders.evaluation.python_evaluation import (\n",
    "    precision_at_k, recall_at_k)\n",
    "\n",
    "from recommenders.utils.timer import Timer\n",
    "from recommenders.datasets import movielens\n",
    "from recommenders.models.lightfm.lightfm_utils import (\n",
    "    track_model_metrics, prepare_test_df, prepare_all_predictions,\n",
    "    compare_metric, similar_users, similar_items)\n",
    "\n",
    "print(\"System version: {}\".format(sys.version))\n",
    "print(\"LightFM version: {}\".format(lightfm.__version__))"
   ]
  },
  {
   "cell_type": "markdown",
   "id": "9d322e05",
   "metadata": {},
   "source": [
    "### 2.2 Defining variables"
   ]
  },
  {
   "cell_type": "code",
   "execution_count": 2,
   "id": "40e5e34e",
   "metadata": {},
   "outputs": [],
   "source": [
    "# Select MovieLens data size\n",
    "MOVIELENS_DATA_SIZE = '100k'\n",
    "\n",
    "# default number of recommendations\n",
    "K = 10\n",
    "# percentage of data used for testing\n",
    "TEST_PERCENTAGE = 0.25\n",
    "# model learning rate\n",
    "LEARNING_RATE = 0.25\n",
    "# no of latent factors\n",
    "NO_COMPONENTS = 20\n",
    "# no of epochs to fit model\n",
    "NO_EPOCHS = 20\n",
    "# no of threads to fit model\n",
    "NO_THREADS = 32\n",
    "# regularisation for both user and item features\n",
    "ITEM_ALPHA=1e-6\n",
    "USER_ALPHA=1e-6\n",
    "\n",
    "# seed for pseudonumber generations\n",
    "SEEDNO = 42\n"
   ]
  },
  {
   "cell_type": "markdown",
   "id": "2538798e",
   "metadata": {},
   "source": [
    "### 2.2 Retrieve data"
   ]
  },
  {
   "cell_type": "code",
   "execution_count": 3,
   "id": "24fd7594",
   "metadata": {},
   "outputs": [
    {
     "name": "stderr",
     "output_type": "stream",
     "text": [
      "100%|██████████| 4.81k/4.81k [00:11<00:00, 423KB/s]  \n"
     ]
    },
    {
     "data": {
      "text/html": [
       "<div>\n",
       "<style scoped>\n",
       "    .dataframe tbody tr th:only-of-type {\n",
       "        vertical-align: middle;\n",
       "    }\n",
       "\n",
       "    .dataframe tbody tr th {\n",
       "        vertical-align: top;\n",
       "    }\n",
       "\n",
       "    .dataframe thead th {\n",
       "        text-align: right;\n",
       "    }\n",
       "</style>\n",
       "<table border=\"1\" class=\"dataframe\">\n",
       "  <thead>\n",
       "    <tr style=\"text-align: right;\">\n",
       "      <th></th>\n",
       "      <th>userID</th>\n",
       "      <th>itemID</th>\n",
       "      <th>rating</th>\n",
       "      <th>genre</th>\n",
       "    </tr>\n",
       "  </thead>\n",
       "  <tbody>\n",
       "    <tr>\n",
       "      <th>54439</th>\n",
       "      <td>269</td>\n",
       "      <td>142</td>\n",
       "      <td>1.0</td>\n",
       "      <td>Adventure|Children's|Musical</td>\n",
       "    </tr>\n",
       "    <tr>\n",
       "      <th>86685</th>\n",
       "      <td>10</td>\n",
       "      <td>629</td>\n",
       "      <td>4.0</td>\n",
       "      <td>Comedy|Musical</td>\n",
       "    </tr>\n",
       "    <tr>\n",
       "      <th>870</th>\n",
       "      <td>263</td>\n",
       "      <td>265</td>\n",
       "      <td>4.0</td>\n",
       "      <td>Action|Thriller</td>\n",
       "    </tr>\n",
       "    <tr>\n",
       "      <th>90925</th>\n",
       "      <td>195</td>\n",
       "      <td>500</td>\n",
       "      <td>4.0</td>\n",
       "      <td>Adventure|Children's</td>\n",
       "    </tr>\n",
       "    <tr>\n",
       "      <th>54055</th>\n",
       "      <td>846</td>\n",
       "      <td>57</td>\n",
       "      <td>2.0</td>\n",
       "      <td>Drama</td>\n",
       "    </tr>\n",
       "  </tbody>\n",
       "</table>\n",
       "</div>"
      ],
      "text/plain": [
       "       userID  itemID  rating                         genre\n",
       "54439     269     142     1.0  Adventure|Children's|Musical\n",
       "86685      10     629     4.0                Comedy|Musical\n",
       "870       263     265     4.0               Action|Thriller\n",
       "90925     195     500     4.0          Adventure|Children's\n",
       "54055     846      57     2.0                         Drama"
      ]
     },
     "execution_count": 3,
     "metadata": {},
     "output_type": "execute_result"
    }
   ],
   "source": [
    "data = movielens.load_pandas_df(\n",
    "    size=MOVIELENS_DATA_SIZE,\n",
    "    genres_col='genre',\n",
    "    header=[\"userID\", \"itemID\", \"rating\"]\n",
    ")\n",
    "# quick look at the data\n",
    "data.sample(5)"
   ]
  },
  {
   "cell_type": "markdown",
   "id": "3afe38cd",
   "metadata": {},
   "source": [
    "### 2.3 Prepare data"
   ]
  },
  {
   "cell_type": "code",
   "execution_count": 4,
   "id": "44c41c93",
   "metadata": {},
   "outputs": [
    {
     "name": "stdout",
     "output_type": "stream",
     "text": [
      "Num users: 943, num_topics: 1682.\n"
     ]
    }
   ],
   "source": [
    "# Before fitting the LightFM model, we need to create an instance of Dataset which holds the interaction matrix.\n",
    "dataset = Dataset()\n",
    "\n",
    "# The fit method creates the user/item id mappings.\n",
    "dataset.fit(users=data['userID'], \n",
    "            items=data['itemID'])\n",
    "\n",
    "# quick check to determine the number of unique users and items in the data\n",
    "num_users, num_topics = dataset.interactions_shape()\n",
    "print(f'Num users: {num_users}, num_topics: {num_topics}.')"
   ]
  },
  {
   "cell_type": "code",
   "execution_count": 5,
   "id": "6261f99a",
   "metadata": {},
   "outputs": [],
   "source": [
    "(interactions, weights) = dataset.build_interactions(data.iloc[:, 0:3].values)"
   ]
  },
  {
   "cell_type": "code",
   "execution_count": 6,
   "id": "91860067",
   "metadata": {},
   "outputs": [],
   "source": [
    "train_interactions, test_interactions = cross_validation.random_train_test_split(\n",
    "    interactions, test_percentage=TEST_PERCENTAGE,\n",
    "    random_state=np.random.RandomState(SEEDNO))"
   ]
  },
  {
   "cell_type": "code",
   "execution_count": 7,
   "id": "fb3ba578",
   "metadata": {},
   "outputs": [
    {
     "name": "stdout",
     "output_type": "stream",
     "text": [
      "Shape of train interactions: (943, 1682)\n",
      "Shape of test interactions: (943, 1682)\n"
     ]
    }
   ],
   "source": [
    "print(f\"Shape of train interactions: {train_interactions.shape}\")\n",
    "print(f\"Shape of test interactions: {test_interactions.shape}\")"
   ]
  },
  {
   "cell_type": "markdown",
   "id": "25eb2592",
   "metadata": {},
   "source": [
    "### 2.4 Fit the LightFM model"
   ]
  },
  {
   "cell_type": "code",
   "execution_count": 8,
   "id": "d2e79df4",
   "metadata": {},
   "outputs": [],
   "source": [
    "model1 = LightFM(loss='warp', no_components=NO_COMPONENTS, \n",
    "                 learning_rate=LEARNING_RATE,                 \n",
    "                 random_state=np.random.RandomState(SEEDNO))\n",
    "model1.fit(interactions=train_interactions,\n",
    "          epochs=NO_EPOCHS);"
   ]
  },
  {
   "cell_type": "markdown",
   "id": "492cca9f",
   "metadata": {},
   "source": [
    "### 2.5 Prepare model evaluation data"
   ]
  },
  {
   "cell_type": "code",
   "execution_count": 10,
   "id": "7024bfdb",
   "metadata": {},
   "outputs": [
    {
     "name": "stdout",
     "output_type": "stream",
     "text": [
      "Took 1.5 seconds for prepare and predict test data.\n"
     ]
    }
   ],
   "source": [
    "uids, iids, interaction_data = cross_validation._shuffle(\n",
    "    interactions.row, interactions.col, interactions.data, \n",
    "    random_state=np.random.RandomState(SEEDNO))\n",
    "\n",
    "cutoff = int((1.0 - TEST_PERCENTAGE) * len(uids))\n",
    "test_idx = slice(cutoff, None)\n",
    "\n",
    "uid_map, ufeature_map, iid_map, ifeature_map = dataset.mapping()\n",
    "\n",
    "with Timer() as test_time:\n",
    "    test_df = prepare_test_df(test_idx, uids, iids, uid_map, iid_map, weights)\n",
    "print(f\"Took {test_time.interval:.1f} seconds for prepare and predict test data.\")  \n",
    "time_reco1 = test_time.interval"
   ]
  },
  {
   "cell_type": "code",
   "execution_count": 11,
   "id": "0d8a01cd",
   "metadata": {},
   "outputs": [
    {
     "data": {
      "text/html": [
       "<div>\n",
       "<style scoped>\n",
       "    .dataframe tbody tr th:only-of-type {\n",
       "        vertical-align: middle;\n",
       "    }\n",
       "\n",
       "    .dataframe tbody tr th {\n",
       "        vertical-align: top;\n",
       "    }\n",
       "\n",
       "    .dataframe thead th {\n",
       "        text-align: right;\n",
       "    }\n",
       "</style>\n",
       "<table border=\"1\" class=\"dataframe\">\n",
       "  <thead>\n",
       "    <tr style=\"text-align: right;\">\n",
       "      <th></th>\n",
       "      <th>userID</th>\n",
       "      <th>itemID</th>\n",
       "      <th>rating</th>\n",
       "    </tr>\n",
       "  </thead>\n",
       "  <tbody>\n",
       "    <tr>\n",
       "      <th>4141</th>\n",
       "      <td>328</td>\n",
       "      <td>708</td>\n",
       "      <td>2.0</td>\n",
       "    </tr>\n",
       "    <tr>\n",
       "      <th>3207</th>\n",
       "      <td>178</td>\n",
       "      <td>69</td>\n",
       "      <td>5.0</td>\n",
       "    </tr>\n",
       "    <tr>\n",
       "      <th>12373</th>\n",
       "      <td>501</td>\n",
       "      <td>108</td>\n",
       "      <td>4.0</td>\n",
       "    </tr>\n",
       "    <tr>\n",
       "      <th>8669</th>\n",
       "      <td>303</td>\n",
       "      <td>294</td>\n",
       "      <td>4.0</td>\n",
       "    </tr>\n",
       "    <tr>\n",
       "      <th>2146</th>\n",
       "      <td>406</td>\n",
       "      <td>826</td>\n",
       "      <td>3.0</td>\n",
       "    </tr>\n",
       "  </tbody>\n",
       "</table>\n",
       "</div>"
      ],
      "text/plain": [
       "       userID  itemID  rating\n",
       "4141      328     708     2.0\n",
       "3207      178      69     5.0\n",
       "12373     501     108     4.0\n",
       "8669      303     294     4.0\n",
       "2146      406     826     3.0"
      ]
     },
     "execution_count": 11,
     "metadata": {},
     "output_type": "execute_result"
    }
   ],
   "source": [
    "test_df.sample(5)"
   ]
  },
  {
   "cell_type": "code",
   "execution_count": 12,
   "id": "fe5b9058",
   "metadata": {},
   "outputs": [
    {
     "name": "stdout",
     "output_type": "stream",
     "text": [
      "Took 311.3 seconds for prepare and predict all data.\n"
     ]
    }
   ],
   "source": [
    "with Timer() as test_time:\n",
    "    all_predictions = prepare_all_predictions(data, uid_map, iid_map, \n",
    "                                              interactions=train_interactions,\n",
    "                                              model=model1, \n",
    "                                              num_threads=NO_THREADS)\n",
    "print(f\"Took {test_time.interval:.1f} seconds for prepare and predict all data.\")\n",
    "time_reco2 = test_time.interval"
   ]
  },
  {
   "cell_type": "code",
   "execution_count": 13,
   "id": "f25e99d5",
   "metadata": {},
   "outputs": [
    {
     "data": {
      "text/html": [
       "<div>\n",
       "<style scoped>\n",
       "    .dataframe tbody tr th:only-of-type {\n",
       "        vertical-align: middle;\n",
       "    }\n",
       "\n",
       "    .dataframe tbody tr th {\n",
       "        vertical-align: top;\n",
       "    }\n",
       "\n",
       "    .dataframe thead th {\n",
       "        text-align: right;\n",
       "    }\n",
       "</style>\n",
       "<table border=\"1\" class=\"dataframe\">\n",
       "  <thead>\n",
       "    <tr style=\"text-align: right;\">\n",
       "      <th></th>\n",
       "      <th>userID</th>\n",
       "      <th>itemID</th>\n",
       "      <th>prediction</th>\n",
       "    </tr>\n",
       "  </thead>\n",
       "  <tbody>\n",
       "    <tr>\n",
       "      <th>309679</th>\n",
       "      <td>352</td>\n",
       "      <td>660</td>\n",
       "      <td>38.796818</td>\n",
       "    </tr>\n",
       "    <tr>\n",
       "      <th>864828</th>\n",
       "      <td>84</td>\n",
       "      <td>687</td>\n",
       "      <td>-10.838598</td>\n",
       "    </tr>\n",
       "    <tr>\n",
       "      <th>93577</th>\n",
       "      <td>40</td>\n",
       "      <td>1674</td>\n",
       "      <td>-27.530016</td>\n",
       "    </tr>\n",
       "    <tr>\n",
       "      <th>724867</th>\n",
       "      <td>267</td>\n",
       "      <td>785</td>\n",
       "      <td>-24.626528</td>\n",
       "    </tr>\n",
       "    <tr>\n",
       "      <th>823444</th>\n",
       "      <td>162</td>\n",
       "      <td>1659</td>\n",
       "      <td>-31.667686</td>\n",
       "    </tr>\n",
       "  </tbody>\n",
       "</table>\n",
       "</div>"
      ],
      "text/plain": [
       "        userID  itemID  prediction\n",
       "309679     352     660   38.796818\n",
       "864828      84     687  -10.838598\n",
       "93577       40    1674  -27.530016\n",
       "724867     267     785  -24.626528\n",
       "823444     162    1659  -31.667686"
      ]
     },
     "execution_count": 13,
     "metadata": {},
     "output_type": "execute_result"
    }
   ],
   "source": [
    "all_predictions.sample(5)"
   ]
  },
  {
   "cell_type": "markdown",
   "id": "5c57d82f",
   "metadata": {},
   "source": [
    "### 2.6 Model evaluation"
   ]
  },
  {
   "cell_type": "code",
   "execution_count": 14,
   "id": "937c11f2",
   "metadata": {},
   "outputs": [
    {
     "name": "stdout",
     "output_type": "stream",
     "text": [
      "------ Using Repo's evaluation methods ------\n",
      "Precision@K:\t0.131601\n",
      "Recall@K:\t0.038056\n",
      "\n",
      "------ Using LightFM evaluation methods ------\n",
      "Precision@K:\t0.131601\n",
      "Recall@K:\t0.038056\n"
     ]
    }
   ],
   "source": [
    "with Timer() as test_time:\n",
    "    eval_precision = precision_at_k(rating_true=test_df, \n",
    "                                rating_pred=all_predictions, k=K)\n",
    "    eval_recall = recall_at_k(test_df, all_predictions, k=K)\n",
    "time_reco3 = test_time.interval\n",
    "\n",
    "with Timer() as test_time:\n",
    "    eval_precision_lfm = lightfm_prec_at_k(model1, test_interactions, \n",
    "                                           train_interactions, k=K).mean()\n",
    "    eval_recall_lfm = lightfm_recall_at_k(model1, test_interactions, \n",
    "                                          train_interactions, k=K).mean()\n",
    "time_lfm = test_time.interval\n",
    "    \n",
    "print(\n",
    "    \"------ Using Repo's evaluation methods ------\",\n",
    "    f\"Precision@K:\\t{eval_precision:.6f}\",\n",
    "    f\"Recall@K:\\t{eval_recall:.6f}\",\n",
    "    \"\\n------ Using LightFM evaluation methods ------\",\n",
    "    f\"Precision@K:\\t{eval_precision_lfm:.6f}\",\n",
    "    f\"Recall@K:\\t{eval_recall_lfm:.6f}\", \n",
    "    sep='\\n')"
   ]
  },
  {
   "cell_type": "markdown",
   "id": "949d134e",
   "metadata": {},
   "source": [
    "## 3. Movie recommender with LightFM using explicit feedbacks and additional item and user features"
   ]
  },
  {
   "cell_type": "markdown",
   "id": "269dd412",
   "metadata": {},
   "source": [
    "## 3.1 Extract and prepare movie genres"
   ]
  },
  {
   "cell_type": "code",
   "execution_count": 15,
   "id": "7017df51",
   "metadata": {},
   "outputs": [
    {
     "data": {
      "text/plain": [
       "['Action',\n",
       " 'Adventure',\n",
       " 'Animation',\n",
       " \"Children's\",\n",
       " 'Comedy',\n",
       " 'Crime',\n",
       " 'Documentary',\n",
       " 'Drama',\n",
       " 'Fantasy',\n",
       " 'Film-Noir',\n",
       " 'Horror',\n",
       " 'Musical',\n",
       " 'Mystery',\n",
       " 'Romance',\n",
       " 'Sci-Fi',\n",
       " 'Thriller',\n",
       " 'War',\n",
       " 'Western',\n",
       " 'unknown']"
      ]
     },
     "execution_count": 15,
     "metadata": {},
     "output_type": "execute_result"
    }
   ],
   "source": [
    "# split the genre based on the separator\n",
    "movie_genre = [x.split('|') for x in data['genre']]\n",
    "\n",
    "# retrieve the all the unique genres in the data\n",
    "all_movie_genre = sorted(list(set(itertools.chain.from_iterable(movie_genre))))\n",
    "# quick look at the all the genres within the data\n",
    "all_movie_genre"
   ]
  },
  {
   "cell_type": "markdown",
   "id": "5caff3ff",
   "metadata": {},
   "source": [
    "## 3.2 Retrieve and prepare movie genres"
   ]
  },
  {
   "cell_type": "markdown",
   "id": "c13e9155",
   "metadata": {},
   "source": [
    "### 3.2.1 Retrieve and merge data "
   ]
  },
  {
   "cell_type": "code",
   "execution_count": 16,
   "id": "24db99b7",
   "metadata": {},
   "outputs": [
    {
     "data": {
      "text/html": [
       "<div>\n",
       "<style scoped>\n",
       "    .dataframe tbody tr th:only-of-type {\n",
       "        vertical-align: middle;\n",
       "    }\n",
       "\n",
       "    .dataframe tbody tr th {\n",
       "        vertical-align: top;\n",
       "    }\n",
       "\n",
       "    .dataframe thead th {\n",
       "        text-align: right;\n",
       "    }\n",
       "</style>\n",
       "<table border=\"1\" class=\"dataframe\">\n",
       "  <thead>\n",
       "    <tr style=\"text-align: right;\">\n",
       "      <th></th>\n",
       "      <th>userID</th>\n",
       "      <th>itemID</th>\n",
       "      <th>rating</th>\n",
       "      <th>genre</th>\n",
       "      <th>occupation</th>\n",
       "    </tr>\n",
       "  </thead>\n",
       "  <tbody>\n",
       "    <tr>\n",
       "      <th>10207</th>\n",
       "      <td>655</td>\n",
       "      <td>527</td>\n",
       "      <td>3.0</td>\n",
       "      <td>Drama</td>\n",
       "      <td>healthcare</td>\n",
       "    </tr>\n",
       "    <tr>\n",
       "      <th>43397</th>\n",
       "      <td>798</td>\n",
       "      <td>491</td>\n",
       "      <td>4.0</td>\n",
       "      <td>Action|Adventure</td>\n",
       "      <td>writer</td>\n",
       "    </tr>\n",
       "    <tr>\n",
       "      <th>32228</th>\n",
       "      <td>389</td>\n",
       "      <td>955</td>\n",
       "      <td>4.0</td>\n",
       "      <td>Drama|Romance</td>\n",
       "      <td>writer</td>\n",
       "    </tr>\n",
       "    <tr>\n",
       "      <th>86121</th>\n",
       "      <td>121</td>\n",
       "      <td>347</td>\n",
       "      <td>3.0</td>\n",
       "      <td>Comedy|Drama</td>\n",
       "      <td>librarian</td>\n",
       "    </tr>\n",
       "    <tr>\n",
       "      <th>49345</th>\n",
       "      <td>682</td>\n",
       "      <td>1311</td>\n",
       "      <td>3.0</td>\n",
       "      <td>Comedy|Drama</td>\n",
       "      <td>programmer</td>\n",
       "    </tr>\n",
       "  </tbody>\n",
       "</table>\n",
       "</div>"
      ],
      "text/plain": [
       "       userID  itemID  rating             genre  occupation\n",
       "10207     655     527     3.0             Drama  healthcare\n",
       "43397     798     491     4.0  Action|Adventure      writer\n",
       "32228     389     955     4.0     Drama|Romance      writer\n",
       "86121     121     347     3.0      Comedy|Drama   librarian\n",
       "49345     682    1311     3.0      Comedy|Drama  programmer"
      ]
     },
     "execution_count": 16,
     "metadata": {},
     "output_type": "execute_result"
    }
   ],
   "source": [
    "user_feature_URL = 'https://files.grouplens.org/datasets/movielens/ml-100k/u.user'\n",
    "user_data = pd.read_table(user_feature_URL, \n",
    "              sep='|', header=None)\n",
    "user_data.columns = ['userID','age','gender','occupation','zipcode']\n",
    "\n",
    "# merging user feature with existing data\n",
    "new_data = data.merge(user_data[['userID','occupation']], left_on='userID', right_on='userID')\n",
    "# quick look at the merged data\n",
    "new_data.sample(5)"
   ]
  },
  {
   "cell_type": "markdown",
   "id": "d19bf14d",
   "metadata": {},
   "source": [
    "### 3.2.2 Extract and prepare user occupations"
   ]
  },
  {
   "cell_type": "code",
   "execution_count": 17,
   "id": "21b6013e",
   "metadata": {},
   "outputs": [],
   "source": [
    "# retrieve all the unique occupations in the data\n",
    "all_occupations = sorted(list(set(new_data['occupation'])))"
   ]
  },
  {
   "cell_type": "markdown",
   "id": "b77c41e2",
   "metadata": {},
   "source": [
    "## 3.3 Prepare data and features"
   ]
  },
  {
   "cell_type": "code",
   "execution_count": 20,
   "id": "00d80eb5",
   "metadata": {},
   "outputs": [],
   "source": [
    "dataset2 = Dataset()\n",
    "dataset2.fit(data['userID'], \n",
    "            data['itemID'], \n",
    "            item_features=all_movie_genre,\n",
    "            user_features=all_occupations)\n",
    "\n",
    "item_features = dataset2.build_item_features(\n",
    "    (x, y) for x,y in zip(data.itemID, movie_genre))\n",
    "\n",
    "user_features = dataset2.build_user_features(\n",
    "    (x, [y]) for x,y in zip(new_data.userID, new_data['occupation']))\n",
    "\n",
    "(interactions2, weights2) = dataset2.build_interactions(data.iloc[:, 0:3].values)\n",
    "\n",
    "train_interactions2, test_interactions2 = cross_validation.random_train_test_split(\n",
    "    interactions2, test_percentage=TEST_PERCENTAGE,\n",
    "    random_state=np.random.RandomState(SEEDNO))"
   ]
  },
  {
   "cell_type": "markdown",
   "id": "de24dabb",
   "metadata": {},
   "source": [
    "## 3.3 Fit the LightFM model with additional user and item features"
   ]
  },
  {
   "cell_type": "code",
   "execution_count": 21,
   "id": "840c580f",
   "metadata": {},
   "outputs": [],
   "source": [
    "model2 = LightFM(loss='warp', no_components=NO_COMPONENTS, \n",
    "                 learning_rate=LEARNING_RATE, \n",
    "                 item_alpha=ITEM_ALPHA,\n",
    "                 user_alpha=USER_ALPHA,\n",
    "                 random_state=np.random.RandomState(SEEDNO))\n",
    "model2.fit(interactions=train_interactions2,\n",
    "           user_features=user_features,\n",
    "           item_features=item_features,\n",
    "           epochs=NO_EPOCHS);"
   ]
  },
  {
   "cell_type": "markdown",
   "id": "1a965885",
   "metadata": {},
   "source": [
    "## 3.4 Prepare model evaluation data"
   ]
  },
  {
   "cell_type": "code",
   "execution_count": 22,
   "id": "3203b091",
   "metadata": {},
   "outputs": [
    {
     "name": "stdout",
     "output_type": "stream",
     "text": [
      "Took 1.5 seconds for prepare and predict test data.\n"
     ]
    }
   ],
   "source": [
    "uids, iids, interaction_data = cross_validation._shuffle(\n",
    "    interactions2.row, interactions2.col, interactions2.data, \n",
    "    random_state=np.random.RandomState(SEEDNO))\n",
    "\n",
    "uid_map, ufeature_map, iid_map, ifeature_map = dataset2.mapping()\n",
    "\n",
    "with Timer() as test_time:\n",
    "    test_df2 = prepare_test_df(test_idx, uids, iids, uid_map, iid_map, weights2)\n",
    "print(f\"Took {test_time.interval:.1f} seconds for prepare and predict test data.\")  "
   ]
  },
  {
   "cell_type": "code",
   "execution_count": 23,
   "id": "c5e14fe3",
   "metadata": {},
   "outputs": [
    {
     "name": "stdout",
     "output_type": "stream",
     "text": [
      "Took 140.3 seconds for prepare and predict all data.\n"
     ]
    }
   ],
   "source": [
    "with Timer() as test_time:\n",
    "    all_predictions2 = prepare_all_predictions(data, uid_map, iid_map, \n",
    "                                              interactions=train_interactions2,\n",
    "                                               user_features=user_features,\n",
    "                                               item_features=item_features,\n",
    "                                               model=model2,\n",
    "                                               num_threads=NO_THREADS)\n",
    "\n",
    "print(f\"Took {test_time.interval:.1f} seconds for prepare and predict all data.\")"
   ]
  },
  {
   "cell_type": "markdown",
   "id": "dbf8c95b",
   "metadata": {},
   "source": [
    "## 3.5 Model evaluation and comparison"
   ]
  },
  {
   "cell_type": "code",
   "execution_count": 24,
   "id": "2064b668",
   "metadata": {},
   "outputs": [
    {
     "name": "stdout",
     "output_type": "stream",
     "text": [
      "------ Using only explicit ratings ------\n",
      "Precision@K:\t0.131601\n",
      "Recall@K:\t0.038056\n",
      "\n",
      "------ Using both implicit and explicit ratings ------\n",
      "Precision@K:\t0.143372\n",
      "Recall@K:\t0.051515\n"
     ]
    }
   ],
   "source": [
    "eval_precision2 = precision_at_k(rating_true=test_df2, \n",
    "                                rating_pred=all_predictions2, k=K)\n",
    "eval_recall2 = recall_at_k(test_df2, all_predictions2, k=K)\n",
    "\n",
    "print(\n",
    "    \"------ Using only explicit ratings ------\",\n",
    "    f\"Precision@K:\\t{eval_precision:.6f}\",\n",
    "    f\"Recall@K:\\t{eval_recall:.6f}\",\n",
    "    \"\\n------ Using both implicit and explicit ratings ------\",\n",
    "    f\"Precision@K:\\t{eval_precision2:.6f}\",\n",
    "    f\"Recall@K:\\t{eval_recall2:.6f}\",\n",
    "    sep='\\n')"
   ]
  },
  {
   "cell_type": "markdown",
   "id": "b854fd1f",
   "metadata": {},
   "source": [
    "## 3.6 Evaluation metrics comparison"
   ]
  },
  {
   "cell_type": "code",
   "execution_count": 25,
   "id": "33118183",
   "metadata": {},
   "outputs": [
    {
     "name": "stdout",
     "output_type": "stream",
     "text": [
      "------ Using Repo's evaluation methods ------\n",
      "Time [sec]:\t317.1\n",
      "\n",
      "------ Using LightFM evaluation methods ------\n",
      "Time [sec]:\t0.3\n"
     ]
    }
   ],
   "source": [
    "print(\n",
    "    \"------ Using Repo's evaluation methods ------\",\n",
    "    f\"Time [sec]:\\t{(time_reco1+time_reco2+time_reco3):.1f}\",\n",
    "    \"\\n------ Using LightFM evaluation methods ------\",\n",
    "    f\"Time [sec]:\\t{time_lfm:.1f}\",\n",
    "    sep='\\n')"
   ]
  },
  {
   "cell_type": "markdown",
   "id": "77cc3bb6",
   "metadata": {},
   "source": [
    "# 4. Evaluate model fitting process"
   ]
  },
  {
   "cell_type": "code",
   "execution_count": 26,
   "id": "acaeaf85",
   "metadata": {},
   "outputs": [
    {
     "data": {
      "image/png": "[encoded data removed]",
      "text/plain": [
       "<Figure size 491.375x216 with 2 Axes>"
      ]
     },
     "metadata": {
      "needs_background": "light"
     },
     "output_type": "display_data"
    }
   ],
   "source": [
    "output1, _ = track_model_metrics(model=model1, train_interactions=train_interactions, \n",
    "                              test_interactions=test_interactions, k=K,\n",
    "                              no_epochs=NO_EPOCHS, no_threads=NO_THREADS)"
   ]
  },
  {
   "cell_type": "code",
   "execution_count": 27,
   "id": "57631a5c",
   "metadata": {},
   "outputs": [
    {
     "data": {
      "image/png": "[encoded data removed]",
      "text/plain": [
       "<Figure size 491.375x216 with 2 Axes>"
      ]
     },
     "metadata": {
      "needs_background": "light"
     },
     "output_type": "display_data"
    }
   ],
   "source": [
    "output2, _ = track_model_metrics(model=model2, train_interactions=train_interactions2, \n",
    "                              test_interactions=test_interactions2, k=K,\n",
    "                              no_epochs=NO_EPOCHS, no_threads=NO_THREADS, \n",
    "                              item_features=item_features,\n",
    "                              user_features=user_features)"
   ]
  },
  {
   "cell_type": "markdown",
   "id": "60c52d74",
   "metadata": {},
   "source": [
    "## 4.1 Performance comparison"
   ]
  },
  {
   "cell_type": "code",
   "execution_count": 28,
   "id": "d15acce1",
   "metadata": {},
   "outputs": [
    {
     "data": {
      "image/png": "[encoded data removed]",
      "text/plain": [
       "<Figure size 432x288 with 1 Axes>"
      ]
     },
     "metadata": {
      "needs_background": "light"
     },
     "output_type": "display_data"
    },
    {
     "data": {
      "image/png": "[encoded data removed]",
      "text/plain": [
       "<Figure size 432x288 with 1 Axes>"
      ]
     },
     "metadata": {
      "needs_background": "light"
     },
     "output_type": "display_data"
    }
   ],
   "source": [
    "for i in ['Precision', 'Recall']:\n",
    "    sns.set_palette(\"Set2\")\n",
    "    plt.figure()\n",
    "    sns.scatterplot(x=\"epoch\", y=\"value\", hue='data',\n",
    "                data=compare_metric(df_list = [output1, output2], metric=i)\n",
    "               ).set_title(f'{i} comparison using test set');"
   ]
  },
  {
   "cell_type": "markdown",
   "id": "8bcf8ab4",
   "metadata": {},
   "source": [
    "# 5. Similar users and items"
   ]
  },
  {
   "cell_type": "markdown",
   "id": "41c8d2eb",
   "metadata": {},
   "source": [
    "## 5.1 User affinity"
   ]
  },
  {
   "cell_type": "code",
   "execution_count": 29,
   "id": "73a70dbf",
   "metadata": {},
   "outputs": [
    {
     "data": {
      "text/plain": [
       "array([[ 0.05855272, -1.0679566 ,  1.546727  , ...,  3.397634  ,\n",
       "        -2.949106  ,  4.1061826 ],\n",
       "       [-0.46352172,  0.6082267 ,  2.6320086 , ...,  3.8771079 ,\n",
       "        -4.569986  ,  4.283195  ],\n",
       "       [-0.05073825,  1.9805118 ,  1.2392372 , ...,  1.5033078 ,\n",
       "        -5.9772434 ,  4.982345  ],\n",
       "       ...,\n",
       "       [ 1.6734635 , -1.2261837 ,  2.5265899 , ...,  2.617263  ,\n",
       "        -2.8289523 ,  3.682522  ],\n",
       "       [-0.46174836,  0.60860467,  2.5804837 , ...,  3.7958286 ,\n",
       "        -4.4355407 ,  4.138396  ],\n",
       "       [-0.9511113 ,  1.4378088 ,  1.9738803 , ...,  3.6424727 ,\n",
       "        -4.401794  ,  4.9400377 ]], dtype=float32)"
      ]
     },
     "execution_count": 29,
     "metadata": {},
     "output_type": "execute_result"
    }
   ],
   "source": [
    "_, user_embeddings = model2.get_user_representations(features=user_features)\n",
    "user_embeddings"
   ]
  },
  {
   "cell_type": "code",
   "execution_count": 30,
   "id": "7dc31cfa",
   "metadata": {},
   "outputs": [
    {
     "data": {
      "text/html": [
       "<div>\n",
       "<style scoped>\n",
       "    .dataframe tbody tr th:only-of-type {\n",
       "        vertical-align: middle;\n",
       "    }\n",
       "\n",
       "    .dataframe tbody tr th {\n",
       "        vertical-align: top;\n",
       "    }\n",
       "\n",
       "    .dataframe thead th {\n",
       "        text-align: right;\n",
       "    }\n",
       "</style>\n",
       "<table border=\"1\" class=\"dataframe\">\n",
       "  <thead>\n",
       "    <tr style=\"text-align: right;\">\n",
       "      <th></th>\n",
       "      <th>userID</th>\n",
       "      <th>score</th>\n",
       "    </tr>\n",
       "  </thead>\n",
       "  <tbody>\n",
       "    <tr>\n",
       "      <th>0</th>\n",
       "      <td>555</td>\n",
       "      <td>0.999999</td>\n",
       "    </tr>\n",
       "    <tr>\n",
       "      <th>1</th>\n",
       "      <td>54</td>\n",
       "      <td>0.999999</td>\n",
       "    </tr>\n",
       "    <tr>\n",
       "      <th>2</th>\n",
       "      <td>314</td>\n",
       "      <td>0.999997</td>\n",
       "    </tr>\n",
       "    <tr>\n",
       "      <th>3</th>\n",
       "      <td>395</td>\n",
       "      <td>0.999996</td>\n",
       "    </tr>\n",
       "    <tr>\n",
       "      <th>4</th>\n",
       "      <td>465</td>\n",
       "      <td>0.999996</td>\n",
       "    </tr>\n",
       "    <tr>\n",
       "      <th>5</th>\n",
       "      <td>481</td>\n",
       "      <td>0.999995</td>\n",
       "    </tr>\n",
       "    <tr>\n",
       "      <th>6</th>\n",
       "      <td>527</td>\n",
       "      <td>0.999993</td>\n",
       "    </tr>\n",
       "    <tr>\n",
       "      <th>7</th>\n",
       "      <td>282</td>\n",
       "      <td>0.999993</td>\n",
       "    </tr>\n",
       "    <tr>\n",
       "      <th>8</th>\n",
       "      <td>411</td>\n",
       "      <td>0.999992</td>\n",
       "    </tr>\n",
       "    <tr>\n",
       "      <th>9</th>\n",
       "      <td>881</td>\n",
       "      <td>0.999991</td>\n",
       "    </tr>\n",
       "  </tbody>\n",
       "</table>\n",
       "</div>"
      ],
      "text/plain": [
       "   userID     score\n",
       "0     555  0.999999\n",
       "1      54  0.999999\n",
       "2     314  0.999997\n",
       "3     395  0.999996\n",
       "4     465  0.999996\n",
       "5     481  0.999995\n",
       "6     527  0.999993\n",
       "7     282  0.999993\n",
       "8     411  0.999992\n",
       "9     881  0.999991"
      ]
     },
     "execution_count": 30,
     "metadata": {},
     "output_type": "execute_result"
    }
   ],
   "source": [
    "similar_users(user_id=1, user_features=user_features, \n",
    "            model=model2)"
   ]
  },
  {
   "cell_type": "markdown",
   "id": "b4ff88e5",
   "metadata": {},
   "source": [
    "## 5.2 Item affinity"
   ]
  },
  {
   "cell_type": "code",
   "execution_count": 31,
   "id": "58f2dc10",
   "metadata": {},
   "outputs": [
    {
     "data": {
      "text/plain": [
       "array([[ 0.2480127 ,  0.2852422 ,  0.41805026, ...,  0.50482327,\n",
       "        -0.72950274,  0.69199866],\n",
       "       [ 0.15941173,  0.26332796,  0.5312104 , ...,  0.67708844,\n",
       "        -0.6556045 ,  0.70197904],\n",
       "       [ 0.17083699,  0.43052566,  0.4654963 , ...,  0.5021669 ,\n",
       "        -0.6872691 ,  0.5713904 ],\n",
       "       ...,\n",
       "       [ 0.31632525, -0.00241148,  0.2915753 , ...,  0.05674869,\n",
       "        -0.13216934,  0.05792239],\n",
       "       [-0.36782396, -0.3278999 ,  0.42307836, ...,  0.8439833 ,\n",
       "        -0.27845436,  0.6473619 ],\n",
       "       [-0.09946227, -0.25418764,  0.5964439 , ...,  0.51661193,\n",
       "        -0.45929876,  0.5635988 ]], dtype=float32)"
      ]
     },
     "execution_count": 31,
     "metadata": {},
     "output_type": "execute_result"
    }
   ],
   "source": [
    "_, item_embeddings = model2.get_item_representations(features=item_features)\n",
    "item_embeddings"
   ]
  },
  {
   "cell_type": "code",
   "execution_count": 32,
   "id": "dc13a38f",
   "metadata": {},
   "outputs": [
    {
     "data": {
      "text/html": [
       "<div>\n",
       "<style scoped>\n",
       "    .dataframe tbody tr th:only-of-type {\n",
       "        vertical-align: middle;\n",
       "    }\n",
       "\n",
       "    .dataframe tbody tr th {\n",
       "        vertical-align: top;\n",
       "    }\n",
       "\n",
       "    .dataframe thead th {\n",
       "        text-align: right;\n",
       "    }\n",
       "</style>\n",
       "<table border=\"1\" class=\"dataframe\">\n",
       "  <thead>\n",
       "    <tr style=\"text-align: right;\">\n",
       "      <th></th>\n",
       "      <th>itemID</th>\n",
       "      <th>score</th>\n",
       "    </tr>\n",
       "  </thead>\n",
       "  <tbody>\n",
       "    <tr>\n",
       "      <th>0</th>\n",
       "      <td>417</td>\n",
       "      <td>0.999105</td>\n",
       "    </tr>\n",
       "    <tr>\n",
       "      <th>1</th>\n",
       "      <td>12</td>\n",
       "      <td>0.998332</td>\n",
       "    </tr>\n",
       "    <tr>\n",
       "      <th>2</th>\n",
       "      <td>231</td>\n",
       "      <td>0.998319</td>\n",
       "    </tr>\n",
       "    <tr>\n",
       "      <th>3</th>\n",
       "      <td>182</td>\n",
       "      <td>0.998289</td>\n",
       "    </tr>\n",
       "    <tr>\n",
       "      <th>4</th>\n",
       "      <td>474</td>\n",
       "      <td>0.998247</td>\n",
       "    </tr>\n",
       "    <tr>\n",
       "      <th>5</th>\n",
       "      <td>76</td>\n",
       "      <td>0.998171</td>\n",
       "    </tr>\n",
       "    <tr>\n",
       "      <th>6</th>\n",
       "      <td>253</td>\n",
       "      <td>0.998157</td>\n",
       "    </tr>\n",
       "    <tr>\n",
       "      <th>7</th>\n",
       "      <td>373</td>\n",
       "      <td>0.998125</td>\n",
       "    </tr>\n",
       "    <tr>\n",
       "      <th>8</th>\n",
       "      <td>573</td>\n",
       "      <td>0.998029</td>\n",
       "    </tr>\n",
       "    <tr>\n",
       "      <th>9</th>\n",
       "      <td>296</td>\n",
       "      <td>0.998021</td>\n",
       "    </tr>\n",
       "  </tbody>\n",
       "</table>\n",
       "</div>"
      ],
      "text/plain": [
       "   itemID     score\n",
       "0     417  0.999105\n",
       "1      12  0.998332\n",
       "2     231  0.998319\n",
       "3     182  0.998289\n",
       "4     474  0.998247\n",
       "5      76  0.998171\n",
       "6     253  0.998157\n",
       "7     373  0.998125\n",
       "8     573  0.998029\n",
       "9     296  0.998021"
      ]
     },
     "execution_count": 32,
     "metadata": {},
     "output_type": "execute_result"
    }
   ],
   "source": [
    "similar_items(item_id=10, item_features=item_features, \n",
    "            model=model2)"
   ]
  },
  {
   "cell_type": "code",
   "execution_count": null,
   "id": "b950f4d4",
   "metadata": {},
   "outputs": [],
   "source": []
  }
 ],
 "metadata": {
  "kernelspec": {
   "display_name": "Python 3",
   "language": "python",
   "name": "python3"
  },
  "language_info": {
   "codemirror_mode": {
    "name": "ipython",
    "version": 3
   },
   "file_extension": ".py",
   "mimetype": "text/x-python",
   "name": "python",
   "nbconvert_exporter": "python",
   "pygments_lexer": "ipython3",
   "version": "3.8.8"
  }
 },
 "nbformat": 4,
 "nbformat_minor": 5
}
